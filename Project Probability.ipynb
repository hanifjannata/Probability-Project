{
 "cells": [
  {
   "cell_type": "code",
   "execution_count": 207,
   "id": "97b7d7ac-c84d-489a-bb5c-95a64803a323",
   "metadata": {},
   "outputs": [],
   "source": [
    "import pandas as pd\n",
    "import numpy as np\n",
    "import matplotlib.pyplot as plt"
   ]
  },
  {
   "cell_type": "code",
   "execution_count": 208,
   "id": "803af004-fa4b-49e0-9d5d-660a5fb3d32d",
   "metadata": {},
   "outputs": [
    {
     "name": "stdout",
     "output_type": "stream",
     "text": [
      "   age     sex     bmi  children smoker     region      charges\n",
      "0   19  female  27.900         0    yes  southwest  16884.92400\n",
      "1   18    male  33.770         1     no  southeast   1725.55230\n",
      "2   28    male  33.000         3     no  southeast   4449.46200\n",
      "3   33    male  22.705         0     no  northwest  21984.47061\n",
      "4   32    male  28.880         0     no  northwest   3866.85520\n"
     ]
    }
   ],
   "source": [
    "df = pd.read_csv(r\"C:\\Users\\Asus\\Downloads\\insurance.csv\")\n",
    "print(df.head())"
   ]
  },
  {
   "cell_type": "code",
   "execution_count": 209,
   "id": "9ce4b9c2-0de0-4427-8589-0ec901b9ba0c",
   "metadata": {},
   "outputs": [
    {
     "name": "stdout",
     "output_type": "stream",
     "text": [
      "<class 'pandas.core.frame.DataFrame'>\n",
      "RangeIndex: 1338 entries, 0 to 1337\n",
      "Data columns (total 7 columns):\n",
      " #   Column    Non-Null Count  Dtype  \n",
      "---  ------    --------------  -----  \n",
      " 0   age       1338 non-null   int64  \n",
      " 1   sex       1338 non-null   object \n",
      " 2   bmi       1338 non-null   float64\n",
      " 3   children  1338 non-null   int64  \n",
      " 4   smoker    1338 non-null   object \n",
      " 5   region    1338 non-null   object \n",
      " 6   charges   1338 non-null   float64\n",
      "dtypes: float64(2), int64(2), object(3)\n",
      "memory usage: 73.3+ KB\n",
      "None\n"
     ]
    }
   ],
   "source": [
    "print(df.info())"
   ]
  },
  {
   "cell_type": "code",
   "execution_count": 210,
   "id": "321e3a1d-3b72-4df2-b39f-ab1920e0a1e5",
   "metadata": {},
   "outputs": [
    {
     "name": "stdout",
     "output_type": "stream",
     "text": [
      "               age          bmi     children       charges\n",
      "count  1338.000000  1338.000000  1338.000000   1338.000000\n",
      "mean     39.207025    30.663397     1.094918  13270.422265\n",
      "std      14.049960     6.098187     1.205493  12110.011237\n",
      "min      18.000000    15.960000     0.000000   1121.873900\n",
      "25%      27.000000    26.296250     0.000000   4740.287150\n",
      "50%      39.000000    30.400000     1.000000   9382.033000\n",
      "75%      51.000000    34.693750     2.000000  16639.912515\n",
      "max      64.000000    53.130000     5.000000  63770.428010\n"
     ]
    }
   ],
   "source": [
    "print(df.describe())"
   ]
  },
  {
   "cell_type": "markdown",
   "id": "eb38c27a-7561-4c48-8c1c-d28450965c15",
   "metadata": {},
   "source": [
    "## Analisa Variabel Deskriptif"
   ]
  },
  {
   "cell_type": "code",
   "execution_count": 211,
   "id": "5991053d-d612-4222-b1d5-01205206ef39",
   "metadata": {},
   "outputs": [
    {
     "name": "stdout",
     "output_type": "stream",
     "text": [
      "39.20702541106129\n"
     ]
    }
   ],
   "source": [
    "# Mengetahui rata-rata umur pengguna.\n",
    "\n",
    "print(df['age'].mean())"
   ]
  },
  {
   "cell_type": "code",
   "execution_count": 212,
   "id": "ddf1c03e-ea3e-425b-b97d-03c8f675c555",
   "metadata": {},
   "outputs": [
    {
     "name": "stdout",
     "output_type": "stream",
     "text": [
      "Rata-rata nilai BMI dari pengguna yang merokok adalah 30.7084\n"
     ]
    }
   ],
   "source": [
    "# Mengetahui rata-rata nilai BMI dari pengguna yang merokok.\n",
    "\n",
    "groupby_smoker = df.groupby('smoker')['bmi']\n",
    "smoker = groupby_smoker.get_group('yes').mean()\n",
    "print(f\"Rata-rata nilai BMI dari pengguna yang merokok adalah {smoker:.4f}\")"
   ]
  },
  {
   "cell_type": "code",
   "execution_count": 213,
   "id": "543701f1-77b7-4d9f-a05c-d3e061e19993",
   "metadata": {},
   "outputs": [
    {
     "name": "stdout",
     "output_type": "stream",
     "text": [
      "Rata-rata BMI laki-laki yaitu 30.94313, sementara rata-rata BMI perempuan yaitu 30.37775\n",
      "Dari perhitungan di atas, dapat diambil kesimpulan bahwa laki-laki memiliki nilai BMI yang lebih tinggi dibanding perempuan.\n"
     ]
    }
   ],
   "source": [
    "# Mengetahui BMI mana yng lebih tinggi, laki-laki atau perempuan?\n",
    "\n",
    "groupby_sex = df.groupby('sex')['bmi']\n",
    "male = groupby_sex.get_group('male').mean()\n",
    "female = groupby_sex.get_group('female').mean()\n",
    "\n",
    "print(f\"Rata-rata BMI laki-laki yaitu {male:.5f}, sementara rata-rata BMI perempuan yaitu {female:.5f}\")\n",
    "print(\"Dari perhitungan di atas, dapat diambil kesimpulan bahwa laki-laki memiliki nilai BMI yang lebih tinggi dibanding perempuan.\")"
   ]
  },
  {
   "cell_type": "code",
   "execution_count": 214,
   "id": "5f50d15f-d538-45f0-954f-96842358e435",
   "metadata": {},
   "outputs": [
    {
     "name": "stdout",
     "output_type": "stream",
     "text": [
      "Rata-rata BMI perokok yaitu 30.70845, sementara rata-rata non-perokok yaitu 30.65180\n",
      "Dari perhitungan di atas, dapat diambil kesimpulan bahwa perokok memiliki nilai BMI yang lebih tinggi dibanding non-perokok.\n"
     ]
    }
   ],
   "source": [
    "# Mengetahui BMI mana yang lebih tinggi, perokok atau non-perokok?\n",
    "\n",
    "groupby_smoker = df.groupby('smoker')['bmi']\n",
    "yes = groupby_smoker.get_group('yes').mean()\n",
    "no = groupby_smoker.get_group('no').mean()\n",
    "\n",
    "print(f\"Rata-rata BMI perokok yaitu {yes:.5f}, sementara rata-rata non-perokok yaitu {no:.5f}\")\n",
    "print(\"Dari perhitungan di atas, dapat diambil kesimpulan bahwa perokok memiliki nilai BMI yang lebih tinggi dibanding non-perokok.\")"
   ]
  },
  {
   "cell_type": "code",
   "execution_count": 215,
   "id": "6890efbb-c3f0-4b15-8868-a8d9aa8fe350",
   "metadata": {},
   "outputs": [
    {
     "name": "stdout",
     "output_type": "stream",
     "text": [
      "Rata-rata tagihan kesehatan bagi perokok yaitu 32050.23183, sementara rata-rata tagihan kesehatan bagi non-perokok yaitu 8434.26830\n",
      "Dari perhitungan di atas, dapat diambil kesimpulan bahwa perokok memiliki nilai tagihan kesehatan yang lebih tinggi dibanding non-perokok.\n"
     ]
    }
   ],
   "source": [
    "# Mengetahui mana yang lebih tinggi, tagihan kesehatan terhadap perokok atau non-perokok?\n",
    "\n",
    "groupby_smoker = df.groupby('smoker')['charges']\n",
    "yes = groupby_smoker.get_group('yes').mean()\n",
    "no = groupby_smoker.get_group('no').mean()\n",
    "\n",
    "print(f\"Rata-rata tagihan kesehatan bagi perokok yaitu {yes:.5f}, sementara rata-rata tagihan kesehatan bagi non-perokok yaitu {no:.5f}\")\n",
    "print(\"Dari perhitungan di atas, dapat diambil kesimpulan bahwa perokok memiliki nilai tagihan kesehatan yang lebih tinggi dibanding non-perokok.\")"
   ]
  },
  {
   "cell_type": "code",
   "execution_count": 216,
   "id": "fa03ac56-ecd9-46b5-9f99-c817cbff181f",
   "metadata": {},
   "outputs": [
    {
     "name": "stdout",
     "output_type": "stream",
     "text": [
      "Variance tagihan kesehatan dari perokok yaitu 133207311.20635, sementara Variance tagihan kesehatan dari  non-perokok yaitu 35925420.49611\n"
     ]
    }
   ],
   "source": [
    "# Mengetahui variance dari data 'charges' perokok dan non-perokok.\n",
    "\n",
    "groupby_smoker = df.groupby('smoker')['charges']\n",
    "yes = groupby_smoker.get_group('yes').var()\n",
    "no = groupby_smoker.get_group('no').var()\n",
    "\n",
    "print(f\"Variance tagihan kesehatan dari perokok yaitu {yes:.5f}, sementara Variance tagihan kesehatan dari  non-perokok yaitu {no:.5f}\")"
   ]
  },
  {
   "cell_type": "markdown",
   "id": "d7e3376b-3c38-4673-9794-366e20ce5dfb",
   "metadata": {},
   "source": [
    "## Analisa Variabel Kategorik"
   ]
  },
  {
   "cell_type": "code",
   "execution_count": 217,
   "id": "5af74262-0cd8-40f7-ae32-aa88107304c9",
   "metadata": {},
   "outputs": [
    {
     "name": "stdout",
     "output_type": "stream",
     "text": [
      "Rata-rata tagihan kesehatan bagi laki-laki yaitu 13956.75118, sementara rata-rata tagihan kesehatan bagi perempuan yaitu 12569.57884\n",
      "Dari perhitungan di atas, dapat diambil kesimpulan bahwa laki-laki memiliki nilai tagihan kesehatan yang lebih tinggi dibanding perempuan.\n"
     ]
    }
   ],
   "source": [
    "# Mengetahui gender mana yang memiliki tagihan paling tinggi\n",
    "\n",
    "groupby_sex = df.groupby('sex')['charges']\n",
    "male = groupby_sex.get_group('male').mean()\n",
    "female = groupby_sex.get_group('female').mean()\n",
    "\n",
    "print(f\"Rata-rata tagihan kesehatan bagi laki-laki yaitu {male:.5f}, sementara rata-rata tagihan kesehatan bagi perempuan yaitu {female:.5f}\")\n",
    "print(\"Dari perhitungan di atas, dapat diambil kesimpulan bahwa laki-laki memiliki nilai tagihan kesehatan yang lebih tinggi dibanding perempuan.\")"
   ]
  },
  {
   "cell_type": "code",
   "execution_count": 218,
   "id": "480f4841-ab10-4bc9-93cb-ed7682dc5f26",
   "metadata": {},
   "outputs": [
    {
     "name": "stdout",
     "output_type": "stream",
     "text": [
      "Data dari South East, South West, North West, dan North East secara berurutan sebesar 0.27, 0.24, 0.24, 0.24\n"
     ]
    }
   ],
   "source": [
    "# Mengetahui apakah setiap region memiliki jumlah data yang sama\n",
    "\n",
    "region = df['region'].value_counts()\n",
    "southeast = region[0] / len(df['region'])\n",
    "southwest = region[1] / len(df['region'])\n",
    "northwest = region[2] / len(df['region'])\n",
    "northeast = region[3] / len(df['region'])\n",
    "\n",
    "print(f\"Data dari South East, South West, North West, dan North East secara berurutan sebesar {southeast:.2f}, {southwest:.2f}, {northwest:.2f}, {northeast:.2f}\")"
   ]
  },
  {
   "cell_type": "code",
   "execution_count": 219,
   "id": "03ebee4f-7b5d-46cd-a83e-14bdbbb6c605",
   "metadata": {},
   "outputs": [
    {
     "name": "stdout",
     "output_type": "stream",
     "text": [
      "jumlah perokok mencakup 0.20478 dari keseluruhan data. Sementara sisanya yaitu data dari non-perokok sebesar 0.795217\n"
     ]
    }
   ],
   "source": [
    "# Mengetahui proporsi perokok dan non-perokok\n",
    "\n",
    "smoker = df['smoker'].value_counts()\n",
    "no = smoker[0] / len(df['smoker'])\n",
    "yes = smoker[1] / len(df['smoker'])\n",
    "\n",
    "print(f\"jumlah perokok mencakup {yes:.5f} dari keseluruhan data. Sementara sisanya yaitu data dari non-perokok sebesar {no:5f}\") "
   ]
  },
  {
   "cell_type": "code",
   "execution_count": 220,
   "id": "fccb925b-b756-46ba-9faf-c3f823e7e241",
   "metadata": {},
   "outputs": [
    {
     "name": "stdout",
     "output_type": "stream",
     "text": [
      "               sum\n",
      "sex    smoker     \n",
      "female no      547\n",
      "       yes     115\n",
      "male   no      517\n",
      "       yes     159\n"
     ]
    }
   ],
   "source": [
    "# Berapa peluang seseorang tersebut adalah perempuan jika diketahui dia adalah perokok?\n",
    "\n",
    "# Mencari n seseorang berjenis kelamin perempuan dan merokok\n",
    "print(df.groupby('sex')['smoker'].agg(sum=('value_counts')))"
   ]
  },
  {
   "cell_type": "code",
   "execution_count": 221,
   "id": "754af600-a2f4-4196-9a71-24305e8a2bd2",
   "metadata": {},
   "outputs": [
    {
     "name": "stdout",
     "output_type": "stream",
     "text": [
      "Peluang seseorang berjenis kelamin perempuan jika diketahui ia merokok sebesar : 0.4197\n"
     ]
    }
   ],
   "source": [
    "# Dari data diketahui\n",
    "\n",
    "n_perempuan_dan_merokok = 115\n",
    "n_perokok = 274\n",
    "\n",
    "# Menghitung probabilitas seseorang berjenis kelamin perempuan jika diketahui ia merokok.\n",
    "p_perempuan_dan_merokok = n_perempuan_dan_merokok / n_perokok\n",
    "print(f\"Peluang seseorang berjenis kelamin perempuan jika diketahui ia merokok sebesar : {p_perempuan_dan_merokok:.4f}\")"
   ]
  },
  {
   "cell_type": "code",
   "execution_count": 222,
   "id": "1c340894-2a55-4d4c-8bee-0483b380021c",
   "metadata": {},
   "outputs": [
    {
     "name": "stdout",
     "output_type": "stream",
     "text": [
      "Peluang seseorang berjenis kelamin laki-laki jika diketahui ia merokok sebesar : 0.5803\n"
     ]
    }
   ],
   "source": [
    "# Berapa peluang seseorang tersebut adalah laki-laki jika diketahui dia adalah perokok?\n",
    "\n",
    "# Dari data diketahui\n",
    "n_laki_dan_merokok = 159\n",
    "n_perokok = 274\n",
    "\n",
    "# Menghitung probabilitas seseorang berjenis kelamin laki-laki jika diketahui ia merokok.\n",
    "p_laki_dan_merokok = n_laki_dan_merokok / n_perokok\n",
    "\n",
    "print(f\"Peluang seseorang berjenis kelamin laki-laki jika diketahui ia merokok sebesar : {p_laki_dan_merokok:.4f}\")"
   ]
  },
  {
   "cell_type": "code",
   "execution_count": 223,
   "id": "fccf37f6-c257-4350-9afa-055d8b6c97b8",
   "metadata": {},
   "outputs": [
    {
     "data": {
      "image/png": "[encoded data removed]",
      "text/plain": [
       "<Figure size 720x720 with 1 Axes>"
      ]
     },
     "metadata": {
      "needs_background": "light"
     },
     "output_type": "display_data"
    }
   ],
   "source": [
    "# Distribusi tagihan dari tiap region\n",
    "\n",
    "# South East\n",
    "groupby_region = df.groupby('region')['charges']\n",
    "southeast = groupby_region.get_group('southeast')\n",
    "southeast.hist(figsize=(10,10), xrot=25)\n",
    "plt.title('Distribusi Tagihan South East')\n",
    "plt.show()"
   ]
  },
  {
   "cell_type": "code",
   "execution_count": 224,
   "id": "b7a15bbb-b5d6-4801-9746-c5d5fa311906",
   "metadata": {},
   "outputs": [
    {
     "data": {
      "image/png": "[encoded data removed]",
      "text/plain": [
       "<Figure size 720x720 with 1 Axes>"
      ]
     },
     "metadata": {
      "needs_background": "light"
     },
     "output_type": "display_data"
    }
   ],
   "source": [
    "# South West\n",
    "groupby_region = df.groupby('region')['charges']\n",
    "southwest = groupby_region.get_group('southwest')\n",
    "southwest.hist(figsize=(10,10), xrot=25)\n",
    "plt.title('Distribusi Tagihan South West')\n",
    "plt.show()"
   ]
  },
  {
   "cell_type": "code",
   "execution_count": 225,
   "id": "1381655b-f2c1-48a3-b404-1af188495ce3",
   "metadata": {},
   "outputs": [
    {
     "data": {
      "image/png": "[encoded data removed]",
      "text/plain": [
       "<Figure size 720x720 with 1 Axes>"
      ]
     },
     "metadata": {
      "needs_background": "light"
     },
     "output_type": "display_data"
    }
   ],
   "source": [
    "# North West\n",
    "groupby_region = df.groupby('region')['charges']\n",
    "northwest = groupby_region.get_group('northwest')\n",
    "northwest.hist(figsize=(10,10), xrot=25)\n",
    "plt.title('Distribusi Tagihan North West')\n",
    "plt.show()"
   ]
  },
  {
   "cell_type": "code",
   "execution_count": 226,
   "id": "c56a2dc5-05e6-457c-8d4a-fce285b208fc",
   "metadata": {},
   "outputs": [
    {
     "data": {
      "image/png": "[encoded data removed]",
      "text/plain": [
       "<Figure size 720x720 with 1 Axes>"
      ]
     },
     "metadata": {
      "needs_background": "light"
     },
     "output_type": "display_data"
    }
   ],
   "source": [
    "# North East\n",
    "groupby_region = df.groupby('region')['charges']\n",
    "northeast = groupby_region.get_group('northeast')\n",
    "northeast.hist(figsize=(10,10), xrot=25)\n",
    "plt.title('Distribusi Tagihan North East')\n",
    "plt.show()"
   ]
  },
  {
   "cell_type": "markdown",
   "id": "77767f96-08fc-42c3-836d-baa7257113d6",
   "metadata": {},
   "source": [
    "## Analisa Variabel Kontinu"
   ]
  },
  {
   "cell_type": "code",
   "execution_count": 251,
   "id": "1b86b2c8-c801-4db5-ba86-9cb24e0f9a7a",
   "metadata": {},
   "outputs": [
    {
     "name": "stdout",
     "output_type": "stream",
     "text": [
      "Peluang seseorang memiliki besaran tagihan kesehatan di atas 15.000 jika diketahui ia memiliki BMI di atas 25.000 adalah 0.2731439047\n"
     ]
    }
   ],
   "source": [
    "# Mencari peluang besaran tagihan berdasarkan BMI\n",
    "\n",
    "# Mencari event B (Jumlah orang dengan BMI di atas 25.000)\n",
    "filter_criteria = (df['bmi'] > 25.000) \n",
    "bmi_above_25000 = df[filter_criteria]\n",
    "\n",
    "# Mencari event A irisan B (Jumlah orang dengan tagihan di atas 15.000 dengan BMI di atas 25.000)\n",
    "bmi_above_25000_with_charges_above_15000 = bmi_above_25000[bmi_above_25000['charges'] > 15000]\n",
    "\n",
    "p_a_intersection_b = len(bmi_above_25000_with_charges_above_15000) / len(bmi_above_25000)\n",
    "\n",
    "print(f\"Peluang seseorang memiliki besaran tagihan kesehatan di atas 15.000 jika diketahui ia memiliki BMI di atas 25.000 adalah {p_a_intersection_b:.10f}\")"
   ]
  },
  {
   "cell_type": "code",
   "execution_count": 228,
   "id": "396c64a2-955a-4ba5-817e-5ff8c48d97f6",
   "metadata": {},
   "outputs": [
    {
     "name": "stdout",
     "output_type": "stream",
     "text": [
      "Peluang seseorang yang diambil secara acak memiliki besaran tagihan kesehatan di atas 16.700 jika diketahui ia adalah perokok adalah 0.93\n"
     ]
    }
   ],
   "source": [
    "# Mencari tahu berapa peluang seseorang yang diambil secara acak memiliki besaran tagihan kesehatan di atas 16.700 jika diketahui ia adalah perokok\n",
    "\n",
    "# Mencari jumlah perokok\n",
    "smoker = df[df['smoker'] == 'yes']\n",
    "\n",
    "# Mencari jumlah individu yang memiliki tagihan kesehatan di atas 16.700 dan merokok\n",
    "smoker_charges_above_16700 = smoker[smoker['charges'] >= 16700]\n",
    "\n",
    "p_a_conditonal_b = len(smoker_charges_above_16700) / len(smoker)\n",
    "\n",
    "print(f\"Peluang seseorang yang diambil secara acak memiliki besaran tagihan kesehatan di atas 16.700 jika diketahui ia adalah perokok adalah {p_a_conditonal_b:.2f}\")"
   ]
  },
  {
   "cell_type": "code",
   "execution_count": 229,
   "id": "8493d7cc-e404-496f-b889-839dcce8176f",
   "metadata": {},
   "outputs": [
    {
     "name": "stdout",
     "output_type": "stream",
     "text": [
      "Peluang seseorang mendapatkan tagihan di atas 16.700 jika ia diketahui sebagai seorang perokok dengan BMI di atas 25 adalah 0.98\n"
     ]
    }
   ],
   "source": [
    "# Mencari kemungkinan terjadinya seorang perokok dengan BMI di atas 25 akan mendapatkan tagihan kesehatan di atas 16.700\n",
    "\n",
    "# Mencari event B (Perokok dengan BMI di atas 25)\n",
    "groupby_smoker = df.groupby('smoker')[['bmi', 'charges']]\n",
    "smoker  = groupby_smoker.get_group('yes')\n",
    "smoker_with_bmi_above_25 = smoker[smoker['bmi'] > 25]\n",
    "\n",
    "# Mencari event A irisan B (Seseorang dengan tagihan di atas 16.700 di mana orang tersebut adalah perokok dengan BMI di atas 25)\n",
    "charges_above_16700 = smoker_with_bmi_above_25[smoker_with_bmi_above_25['charges'] > 16700]\n",
    "\n",
    "p_a_n_b = len(charges_above_16700) / len(smoker_with_bmi_above_25)\n",
    "\n",
    "print(f\"Peluang seseorang mendapatkan tagihan di atas 16.700 jika ia diketahui sebagai seorang perokok dengan BMI di atas 25 adalah {p_a_n_b:.2f}\")"
   ]
  },
  {
   "cell_type": "code",
   "execution_count": 231,
   "id": "bb837682-0b6e-4d06-8942-519d666e0d65",
   "metadata": {},
   "outputs": [
    {
     "name": "stdout",
     "output_type": "stream",
     "text": [
      "Probabilitas dari skenario 1 adalah 0.85 dan probabilitas dari skenario 2 adalah 0.15\n",
      "Berdasarkan perhitungan di atas, dapat diketahui kalau peluang terjadinya skenario 1 lebih tinggi dibanding skenario 2.\n"
     ]
    }
   ],
   "source": [
    "# Mana yang lebih mungkin terjadi: Seseorang dengan BMI di atas 25 mendapatkan tagihan kesehatan di atas 16.700 atau seseorang dengan BMI di bawah 25 mendapatkan tagihan kesehatan di atas 16.700\n",
    "\n",
    "# Skenario 1\n",
    "# Mencari event B (seseorang dengan tagihan kesehatan di atas 16.700)\n",
    "b = df[df['charges'] >= 16700]\n",
    "\n",
    "# Mencari event A irisan B (seseorang dengan BMI di atas 25 dan mendapatkan tagihan kesehatan di atas 16.700)\n",
    "n_a_n_b = b[b['bmi'] >= 25]\n",
    "\n",
    "p_a_intersection_b = len(n_a_n_b) / len(b)\n",
    "\n",
    "# Skenario 2\n",
    "# Event B tidak perlu dicari tahu karena sudah terjawab di atas\n",
    "\n",
    "# Mencari event C irisan B (seseorang dengan BMI di bawah 25 dan mendapatkan tagihan kesehatan di atas 16.700)\n",
    "n_c_n_b = b[b['bmi'] <= 25]\n",
    "\n",
    "p_c_intersection_b = len(n_c_n_b) / len(b)\n",
    "\n",
    "print(f\"Probabilitas dari skenario 1 adalah {p_a_intersection_b:.2f} dan probabilitas dari skenario 2 adalah {p_c_intersection_b:.2f}\")\n",
    "print(\"Berdasarkan perhitungan di atas, dapat diketahui kalau peluang terjadinya skenario 1 lebih tinggi dibanding skenario 2.\")\n"
   ]
  },
  {
   "cell_type": "code",
   "execution_count": 253,
   "id": "126784de-d0d3-4f83-8bf3-324755da657e",
   "metadata": {},
   "outputs": [
    {
     "name": "stdout",
     "output_type": "stream",
     "text": [
      "Probabilitas dari skenario 1 adalah 0.9817 dan probabilitas dari skenario 2 adalah 0.0778\n",
      "Berdasarkan perhitungan di atas, dapat diketahui kalau peluang terjadinya skenario 1 lebih tinggi dibanding skenario 2.\n"
     ]
    }
   ],
   "source": [
    "# Mana yang lebih mungkin terjadi: seorang perokok dengan BMI di atas 25 akan mendapatkan tagihan kesehatan di atas 16.700 atau seorang non-perokok dengan BMI di atas 25 akan mendapatkan tagihan kesehatan di atas 16.700\n",
    "\n",
    "# Skenario 1\n",
    "# Mencari event B (Perokok dengan BMI di atas 25)\n",
    "groupby_smoker = df.groupby('smoker')[['bmi', 'charges']]\n",
    "smoker  = groupby_smoker.get_group('yes')\n",
    "smoker_with_bmi_above_25 = smoker[smoker['bmi'] >= 25]\n",
    "\n",
    "# Mencari event A irisan B (Seseorang dengan tagihan di atas 16.700 di mana orang tersebut adalah perokok dengan BMI di atas 25)\n",
    "smoker_with_charges_above_16700 = smoker_with_bmi_above_25[smoker_with_bmi_above_25['charges'] >= 16700]\n",
    "\n",
    "p_a_conditional_b = len(smoker_with_charges_above_16700) / len(smoker_with_bmi_above_25)\n",
    "\n",
    "# Skenario 2\n",
    "# Mencari event B (Non-perokok dengan BMI di atas 25)\n",
    "groupby_smoker = df.groupby('smoker')[['bmi', 'charges']]\n",
    "nonsmoker  = groupby_smoker.get_group('no')\n",
    "nonsmoker_with_bmi_above_25 = nonsmoker[nonsmoker['bmi'] >= 25]\n",
    "\n",
    "# Mencari event A irisan B (Seseorang dengan tagihan di atas 16.700 di mana orang tersebut adalah perokok dengan BMI di atas 25)\n",
    "nonsmoker_with_charges_above_16700 = nonsmoker_with_bmi_above_25[nonsmoker_with_bmi_above_25['charges'] >= 16700]\n",
    "\n",
    "p_c_conditional_b = len(nonsmoker_with_charges_above_16700) / len(nonsmoker_with_bmi_above_25)\n",
    "\n",
    "print(f\"Probabilitas dari skenario 1 adalah {p_a_conditional_b:.4f} dan probabilitas dari skenario 2 adalah {p_c_conditional_b:.4f}\")\n",
    "print(\"Berdasarkan perhitungan di atas, dapat diketahui kalau peluang terjadinya skenario 1 lebih tinggi dibanding skenario 2.\")"
   ]
  },
  {
   "cell_type": "markdown",
   "id": "f04606fe-0e77-43f4-ba0b-16f8d69a4ece",
   "metadata": {},
   "source": [
    "## Analisa Korelasi Variabel"
   ]
  },
  {
   "cell_type": "code",
   "execution_count": 256,
   "id": "aaa28897-8241-4f75-baf0-1ab233456717",
   "metadata": {},
   "outputs": [
    {
     "name": "stdout",
     "output_type": "stream",
     "text": [
      "Kovarians dari variabel BMI dan tagihan kesehatan adalah 14647.304426322171\n"
     ]
    }
   ],
   "source": [
    "# Mencari kovarians antara variabel BMI dan tagihan kesehatan.\n",
    "\n",
    "bmi = df['bmi']\n",
    "charges = df['charges']\n",
    "\n",
    "# Membuat function kovarians\n",
    "def covariance(x, y):\n",
    "    # Mencari rata-rata dari 2 variabel\n",
    "    mean_x = sum(x)/float(len(x))\n",
    "    mean_y = sum(y)/float(len(y))\n",
    "    # Mengurangi rata2 dari masing-masing value dalam variabel\n",
    "    sub_x = [i - mean_x for i in x]\n",
    "    sub_y = [i - mean_y for i in y]\n",
    "    numerator = sum([sub_x[i]*sub_y[i] for i in range(len(sub_x))])\n",
    "    denominator = len(x)-1\n",
    "    cov = numerator/denominator\n",
    "    return cov\n",
    "\n",
    "cov_func = covariance(bmi, charges)\n",
    "print(\"Kovarians dari variabel BMI dan tagihan kesehatan adalah\", cov_func)"
   ]
  },
  {
   "cell_type": "code",
   "execution_count": 257,
   "id": "13a0916d-c922-455d-8e55-5162bc9f86b7",
   "metadata": {},
   "outputs": [
    {
     "name": "stdout",
     "output_type": "stream",
     "text": [
      "Korelasi antara BMI dengan tagihan kesehatan adalah 0.19834096883362906\n"
     ]
    }
   ],
   "source": [
    "# Menghitung korelasi antara variabel BMI dan tagihan kesehatan\n",
    "\n",
    "def correlation(x, y):\n",
    "    # Mencari rata-rata dari 2 variabel\n",
    "    mean_x = sum(x)/float(len(x))\n",
    "    mean_y = sum(y)/float(len(y))\n",
    "    # Mengurangi rata2 dari masing-masing value dalam variabel\n",
    "    sub_x = [i-mean_x for i in x]\n",
    "    sub_y = [i-mean_y for i in y]\n",
    "    # Kovarians variabel x dan y\n",
    "    numerator = sum([sub_x[i]*sub_y[i] for i in range(len(sub_x))])\n",
    "    # Standar Deviasi variabel x dan y\n",
    "    std_deviation_x = sum([sub_x[i]**2.0 for i in range(len(sub_x))])\n",
    "    std_deviation_y = sum([sub_y[i]**2.0 for i in range(len(sub_y))])\n",
    "    # Mengkuadratkan dengan 0,5 untuk mendapatkan akar kuadrat\n",
    "    denominator = (std_deviation_x*std_deviation_y)**0.5 \n",
    "    cor = numerator/denominator\n",
    "    return cor\n",
    "\n",
    "cor_func = correlation(bmi, charges)\n",
    "print(\"Korelasi antara BMI dengan tagihan kesehatan adalah\", cor_func)"
   ]
  },
  {
   "cell_type": "markdown",
   "id": "a50926dc-0b3d-4b92-97ce-04381d6c6298",
   "metadata": {},
   "source": [
    "## Pengujian Hipotesis"
   ]
  },
  {
   "cell_type": "markdown",
   "id": "05ec08be-9a0c-4351-8ebb-e3f61715aaf5",
   "metadata": {},
   "source": [
    "Hipotesis pertama yang akan diuji adalah: Tagihan kesehatan perokok lebih besar dibandingkan tagihan kesehatan non-perokok\n",
    "\n",
    "H0 : Rata-rata tagihan kesehatan perokok >= tagihan kesehatan non-perokok\n",
    "\n",
    "H1 : Rata-rata tagihan kesehatan perokok < tagihan kesehatan non-perokok\n",
    "\n",
    "Tingkat signifikansi (alpha) = 0,05\n",
    "\n",
    "Uji yang sedang dilakukan merupakan uji pihak kiri. Maka dari itu, keputusan untuk menolak hipotesis yang diajukan tergantung dari apakah nilai statistik uji lebih kecil dari nilai kritis atau jika p-value lebih kecil dari 0,05."
   ]
  },
  {
   "cell_type": "code",
   "execution_count": 240,
   "id": "86604a86-2c02-41ec-bd09-815c0fbe47e3",
   "metadata": {},
   "outputs": [
    {
     "name": "stdout",
     "output_type": "stream",
     "text": [
      "Dari perhitungan di atas, diperoleh z-test dan p-value secara berurutan sebesar (-2.875444722276708e-14, 0.999999999999977)\n",
      "Karena nilai p-value yang dihasilkan lebih besar dari 0,05, maka hipotesis nol yang diuji dapat diterima.\n"
     ]
    }
   ],
   "source": [
    "filter_smoker = df['smoker'] == 'yes'\n",
    "smoker = df[filter_smoker]\n",
    "filter_nonsmoker = df['smoker'] == 'no'\n",
    "nonsmoker = df[filter_nonsmoker]\n",
    "\n",
    "# Mencari perbedaan rata-rata dari 2 populasi\n",
    "mean_difference = smoker['charges'].mean() - nonsmoker['charges'].mean()\n",
    "\n",
    "# Melakukan uji statistik\n",
    "from statsmodels.stats.weightstats import ztest as ztest\n",
    "uji_statistik = ztest(smoker['charges'], nonsmoker['charges'], mean_difference)\n",
    "\n",
    "print(f\"Dari perhitungan di atas, diperoleh z-test dan p-value secara berurutan sebesar {uji_statistik}\")\n",
    "print(\"Karena nilai p-value yang dihasilkan lebih besar dari 0,05, maka hipotesis nol yang diuji dapat diterima.\")"
   ]
  },
  {
   "cell_type": "markdown",
   "id": "cd93ce8d-490a-4ea6-8b91-eea206fe1fd0",
   "metadata": {},
   "source": [
    "Hipotesis kedua yang akan diuji adalah: Tagihan kesehatan sekumpulan individu dengan BMI di atas 25 lebih besar dibandingkan tagihan kesehatan sekumpulan individu dengan BMI di bawah 25.\n",
    "\n",
    "H0 : Tagihan kesehatan sekumpulan individu dengan BMI di atas 25 >= Tagihan kesehatan sekumpulan individu dengan BMI di bawah 25\n",
    "\n",
    "H1 : Tagihan kesehatan sekumpulan individu dengan BMI di atas 25 < Tagihan kesehatan sekumpulan individu dengan BMI di bawah 25\n",
    "\n",
    "Tingkat signifikansi (alpha) = 0,05\n",
    "\n",
    "Uji yang sedang dilakukan merupakan uji pihak kiri. Maka dari itu, keputusan untuk menolak hipotesis yang diajukan tergantung dari apakah nilai statistik uji lebih kecil dari nilai kritis atau jika p-value lebih kecil dari 0,05."
   ]
  },
  {
   "cell_type": "code",
   "execution_count": 241,
   "id": "3d307473-813d-4103-a149-f56fd5f1cac7",
   "metadata": {},
   "outputs": [
    {
     "name": "stdout",
     "output_type": "stream",
     "text": [
      "Dari perhitungan di atas, diperoleh z-test dan p-value secara berurutan sebesar (1.0940767966494114e-14, 0.9999999999999912)\n",
      "Karena nilai p-value yang dihasilkan lebih besar dari 0,05, maka hipotesis nol yang diuji dapat diterima.\n"
     ]
    }
   ],
   "source": [
    "filter_bmi_above_25 = df['bmi'] > 25\n",
    "bmi_above_25 = df[filter_bmi_above_25]\n",
    "filter_bmi_below_25 = df['bmi'] < 25\n",
    "bmi_below_25 = df[filter_bmi_below_25]\n",
    "\n",
    "# Mencari perbedaan rata-rata dari 2 populasi\n",
    "mean_difference = bmi_above_25['bmi'].mean() - bmi_below_25['bmi'].mean()\n",
    "\n",
    "# Melakukan uji statistik\n",
    "from statsmodels.stats.weightstats import ztest as ztest\n",
    "uji_statistik = ztest(bmi_above_25['bmi'], bmi_below_25['bmi'], mean_difference)\n",
    "\n",
    "print(f\"Dari perhitungan di atas, diperoleh z-test dan p-value secara berurutan sebesar {uji_statistik}\")\n",
    "print(\"Karena nilai p-value yang dihasilkan lebih besar dari 0,05, maka hipotesis nol yang diuji dapat diterima.\")"
   ]
  },
  {
   "cell_type": "markdown",
   "id": "6e2c38e2-22ed-448f-bac9-03be3e307275",
   "metadata": {},
   "source": [
    "Hipotesis ketiga yang akan diuji adalah: Tagihan kesehatan laki-laki lebih besar dari perempuan.\n",
    "\n",
    "H0 : Tagihan kesehatan laki-laki >= Tagihan kesehatan perempuan\n",
    "\n",
    "H1 : Tagihan kesehatan laki-laki < Tagihan kesehatan perempuan\n",
    "\n",
    "Tingkat signifikansi (alpha) = 0,05\n",
    "\n",
    "Uji yang sedang dilakukan merupakan uji pihak kiri. Maka dari itu, keputusan untuk menolak hipotesis yang diajukan tergantung dari apakah nilai statistik uji lebih kecil dari nilai kritis atau jika p-value lebih kecil dari 0,05."
   ]
  },
  {
   "cell_type": "code",
   "execution_count": 242,
   "id": "d726122d-8797-499d-8927-f12db7c0b5d8",
   "metadata": {},
   "outputs": [
    {
     "name": "stdout",
     "output_type": "stream",
     "text": [
      "Dari perhitungan di atas, diperoleh z-test dan p-value secara berurutan sebesar (0.0, 1.0)\n",
      "Karena nilai p-value yang dihasilkan lebih besar dari 0,05, maka hipotesis nol yang diuji dapat diterima.\n"
     ]
    }
   ],
   "source": [
    "filter_male_charges = df['sex'] == 'male'\n",
    "male_charges = df[filter_male_charges]\n",
    "filter_female_charges = df['sex'] == 'female'\n",
    "female_charges = df[filter_female_charges]\n",
    "\n",
    "# Mencari perbedaan rata-rata dari 2 populasi\n",
    "mean_difference = male_charges['charges'].mean() - female_charges['charges'].mean()\n",
    "\n",
    "# Melakukan uji statistik\n",
    "from statsmodels.stats.weightstats import ztest as ztest\n",
    "uji_statistik = ztest(male_charges['charges'], female_charges['charges'], mean_difference)\n",
    "\n",
    "print(f\"Dari perhitungan di atas, diperoleh z-test dan p-value secara berurutan sebesar {uji_statistik}\")\n",
    "print(\"Karena nilai p-value yang dihasilkan lebih besar dari 0,05, maka hipotesis nol yang diuji dapat diterima.\")"
   ]
  },
  {
   "cell_type": "code",
   "execution_count": null,
   "id": "380b7db9-06a6-474a-8e62-d8abc0c4389c",
   "metadata": {},
   "outputs": [],
   "source": []
  }
 ],
 "metadata": {
  "kernelspec": {
   "display_name": "Python 3 (ipykernel)",
   "language": "python",
   "name": "python3"
  },
  "language_info": {
   "codemirror_mode": {
    "name": "ipython",
    "version": 3
   },
   "file_extension": ".py",
   "mimetype": "text/x-python",
   "name": "python",
   "nbconvert_exporter": "python",
   "pygments_lexer": "ipython3",
   "version": "3.9.12"
  }
 },
 "nbformat": 4,
 "nbformat_minor": 5
}
